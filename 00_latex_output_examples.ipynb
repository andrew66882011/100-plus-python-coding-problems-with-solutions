{
  "nbformat": 4,
  "nbformat_minor": 0,
  "metadata": {
    "colab": {
      "name": "Untitled0.ipynb",
      "provenance": [],
      "authorship_tag": "ABX9TyNRtcsXtgJyYkuH2+qt11Rv",
      "include_colab_link": true
    },
    "kernelspec": {
      "name": "python3",
      "display_name": "Python 3"
    },
    "language_info": {
      "name": "python"
    }
  },
  "cells": [
    {
      "cell_type": "markdown",
      "metadata": {
        "id": "view-in-github",
        "colab_type": "text"
      },
      "source": [
        "<a href=\"https://colab.research.google.com/github/andrew66882011/100-plus-python-coding-problems-with-solutions/blob/master/00_latex_output_examples.ipynb\" target=\"_parent\"><img src=\"https://colab.research.google.com/assets/colab-badge.svg\" alt=\"Open In Colab\"/></a>"
      ]
    },
    {
      "cell_type": "code",
      "metadata": {
        "id": "Q9RvdMwfOm8g"
      },
      "source": [
        "## imports\n",
        "import pandas as pd\n",
        "import numpy as np\n",
        "import plotnine\n",
        "from plotnine import *\n",
        "import random\n",
        "\n",
        "## print multiple things from same cell\n",
        "from IPython.core.interactiveshell import InteractiveShell\n",
        "InteractiveShell.ast_node_interactivity = \"all\""
      ],
      "execution_count": 1,
      "outputs": []
    },
    {
      "cell_type": "markdown",
      "metadata": {
        "id": "Or8AcNSvPYs1"
      },
      "source": [
        "## Example code\n",
        "### Load data"
      ]
    },
    {
      "cell_type": "code",
      "metadata": {
        "colab": {
          "base_uri": "https://localhost:8080/",
          "height": 1000
        },
        "id": "hCIMI1DBOyZ3",
        "outputId": "8c7cb208-9f27-4eec-c635-15344f351f50"
      },
      "source": [
        "## load data on 2020 crimes in DC\n",
        "dc_crim_2020 = pd.read_csv(\"https://opendata.arcgis.com/datasets/f516e0dd7b614b088ad781b0c4002331_2.csv\")\n",
        "dc_crim_2020.head()\n",
        "dc_crim_2020.shape\n",
        "dc_crim_2020.info()"
      ],
      "execution_count": 2,
      "outputs": [
        {
          "output_type": "execute_result",
          "data": {
            "text/html": [
              "<div>\n",
              "<style scoped>\n",
              "    .dataframe tbody tr th:only-of-type {\n",
              "        vertical-align: middle;\n",
              "    }\n",
              "\n",
              "    .dataframe tbody tr th {\n",
              "        vertical-align: top;\n",
              "    }\n",
              "\n",
              "    .dataframe thead th {\n",
              "        text-align: right;\n",
              "    }\n",
              "</style>\n",
              "<table border=\"1\" class=\"dataframe\">\n",
              "  <thead>\n",
              "    <tr style=\"text-align: right;\">\n",
              "      <th></th>\n",
              "      <th>X</th>\n",
              "      <th>Y</th>\n",
              "      <th>CCN</th>\n",
              "      <th>REPORT_DAT</th>\n",
              "      <th>SHIFT</th>\n",
              "      <th>METHOD</th>\n",
              "      <th>OFFENSE</th>\n",
              "      <th>BLOCK</th>\n",
              "      <th>XBLOCK</th>\n",
              "      <th>YBLOCK</th>\n",
              "      <th>WARD</th>\n",
              "      <th>ANC</th>\n",
              "      <th>DISTRICT</th>\n",
              "      <th>PSA</th>\n",
              "      <th>NEIGHBORHOOD_CLUSTER</th>\n",
              "      <th>BLOCK_GROUP</th>\n",
              "      <th>CENSUS_TRACT</th>\n",
              "      <th>VOTING_PRECINCT</th>\n",
              "      <th>LATITUDE</th>\n",
              "      <th>LONGITUDE</th>\n",
              "      <th>BID</th>\n",
              "      <th>START_DATE</th>\n",
              "      <th>END_DATE</th>\n",
              "      <th>OBJECTID</th>\n",
              "      <th>OCTO_RECORD_ID</th>\n",
              "    </tr>\n",
              "  </thead>\n",
              "  <tbody>\n",
              "    <tr>\n",
              "      <th>0</th>\n",
              "      <td>-77.023981</td>\n",
              "      <td>38.900345</td>\n",
              "      <td>5370</td>\n",
              "      <td>2020/01/17 02:39:05+00</td>\n",
              "      <td>EVENING</td>\n",
              "      <td>OTHERS</td>\n",
              "      <td>THEFT F/AUTO</td>\n",
              "      <td>800 - 899 BLOCK OF 9TH STREET NW</td>\n",
              "      <td>397920.0</td>\n",
              "      <td>136943.0</td>\n",
              "      <td>2</td>\n",
              "      <td>2C</td>\n",
              "      <td>2.0</td>\n",
              "      <td>209.0</td>\n",
              "      <td>Cluster 8</td>\n",
              "      <td>005800 1</td>\n",
              "      <td>5800.0</td>\n",
              "      <td>Precinct 129</td>\n",
              "      <td>38.900337</td>\n",
              "      <td>-77.023979</td>\n",
              "      <td>DOWNTOWN</td>\n",
              "      <td>2020/01/11 02:48:51+00</td>\n",
              "      <td>2020/01/17 02:48:54+00</td>\n",
              "      <td>611426356</td>\n",
              "      <td>00005370-01</td>\n",
              "    </tr>\n",
              "    <tr>\n",
              "      <th>1</th>\n",
              "      <td>-77.030788</td>\n",
              "      <td>38.911874</td>\n",
              "      <td>16641</td>\n",
              "      <td>2020/01/28 05:14:39+00</td>\n",
              "      <td>MIDNIGHT</td>\n",
              "      <td>OTHERS</td>\n",
              "      <td>THEFT F/AUTO</td>\n",
              "      <td>1300 - 1399 BLOCK OF CORCORAN STREET NW</td>\n",
              "      <td>397330.0</td>\n",
              "      <td>138223.0</td>\n",
              "      <td>2</td>\n",
              "      <td>2F</td>\n",
              "      <td>3.0</td>\n",
              "      <td>307.0</td>\n",
              "      <td>Cluster 7</td>\n",
              "      <td>005001 2</td>\n",
              "      <td>5001.0</td>\n",
              "      <td>Precinct 16</td>\n",
              "      <td>38.911866</td>\n",
              "      <td>-77.030785</td>\n",
              "      <td>NaN</td>\n",
              "      <td>2020/01/28 05:14:58+00</td>\n",
              "      <td>2020/01/28 05:15:02+00</td>\n",
              "      <td>611426357</td>\n",
              "      <td>00016641-01</td>\n",
              "    </tr>\n",
              "    <tr>\n",
              "      <th>2</th>\n",
              "      <td>-76.972226</td>\n",
              "      <td>38.854086</td>\n",
              "      <td>10147537</td>\n",
              "      <td>2020/12/21 05:00:00+00</td>\n",
              "      <td>MIDNIGHT</td>\n",
              "      <td>OTHERS</td>\n",
              "      <td>HOMICIDE</td>\n",
              "      <td>2300 - 2499 BLOCK OF HARTFORD STREET SE</td>\n",
              "      <td>402411.0</td>\n",
              "      <td>131808.0</td>\n",
              "      <td>8</td>\n",
              "      <td>8B</td>\n",
              "      <td>7.0</td>\n",
              "      <td>702.0</td>\n",
              "      <td>Cluster 36</td>\n",
              "      <td>007408 1</td>\n",
              "      <td>7408.0</td>\n",
              "      <td>Precinct 115</td>\n",
              "      <td>38.854078</td>\n",
              "      <td>-76.972223</td>\n",
              "      <td>NaN</td>\n",
              "      <td>2010/10/10 02:00:00+00</td>\n",
              "      <td>1970/01/01 00:00:00+00</td>\n",
              "      <td>611516040</td>\n",
              "      <td>10147537-01</td>\n",
              "    </tr>\n",
              "    <tr>\n",
              "      <th>3</th>\n",
              "      <td>-76.972651</td>\n",
              "      <td>38.857491</td>\n",
              "      <td>10251445</td>\n",
              "      <td>2020/09/11 04:00:00+00</td>\n",
              "      <td>MIDNIGHT</td>\n",
              "      <td>GUN</td>\n",
              "      <td>HOMICIDE</td>\n",
              "      <td>2300 - 2399 BLOCK OF AINGER PLACE SE</td>\n",
              "      <td>402374.0</td>\n",
              "      <td>132186.0</td>\n",
              "      <td>8</td>\n",
              "      <td>8B</td>\n",
              "      <td>7.0</td>\n",
              "      <td>701.0</td>\n",
              "      <td>Cluster 36</td>\n",
              "      <td>007502 1</td>\n",
              "      <td>7502.0</td>\n",
              "      <td>Precinct 134</td>\n",
              "      <td>38.857483</td>\n",
              "      <td>-76.972648</td>\n",
              "      <td>NaN</td>\n",
              "      <td>2010/09/02 04:00:00+00</td>\n",
              "      <td>2010/09/02 04:00:00+00</td>\n",
              "      <td>611522983</td>\n",
              "      <td>10251445-01</td>\n",
              "    </tr>\n",
              "    <tr>\n",
              "      <th>4</th>\n",
              "      <td>-77.044182</td>\n",
              "      <td>38.905654</td>\n",
              "      <td>11139598</td>\n",
              "      <td>2020/08/24 04:00:00+00</td>\n",
              "      <td>MIDNIGHT</td>\n",
              "      <td>OTHERS</td>\n",
              "      <td>HOMICIDE</td>\n",
              "      <td>1900 - 1999 BLOCK OF M STREET NW</td>\n",
              "      <td>396168.0</td>\n",
              "      <td>137533.0</td>\n",
              "      <td>2</td>\n",
              "      <td>2B</td>\n",
              "      <td>2.0</td>\n",
              "      <td>207.0</td>\n",
              "      <td>Cluster 6</td>\n",
              "      <td>010700 1</td>\n",
              "      <td>10700.0</td>\n",
              "      <td>Precinct 17</td>\n",
              "      <td>38.905646</td>\n",
              "      <td>-77.044180</td>\n",
              "      <td>GOLDEN TRIANGLE</td>\n",
              "      <td>2011/09/23 06:40:00+00</td>\n",
              "      <td>1970/01/01 00:00:00+00</td>\n",
              "      <td>611547325</td>\n",
              "      <td>11139598-01</td>\n",
              "    </tr>\n",
              "  </tbody>\n",
              "</table>\n",
              "</div>"
            ],
            "text/plain": [
              "           X          Y  ...   OBJECTID OCTO_RECORD_ID\n",
              "0 -77.023981  38.900345  ...  611426356    00005370-01\n",
              "1 -77.030788  38.911874  ...  611426357    00016641-01\n",
              "2 -76.972226  38.854086  ...  611516040    10147537-01\n",
              "3 -76.972651  38.857491  ...  611522983    10251445-01\n",
              "4 -77.044182  38.905654  ...  611547325    11139598-01\n",
              "\n",
              "[5 rows x 25 columns]"
            ]
          },
          "metadata": {
            "tags": []
          },
          "execution_count": 2
        },
        {
          "output_type": "execute_result",
          "data": {
            "text/plain": [
              "(27869, 25)"
            ]
          },
          "metadata": {
            "tags": []
          },
          "execution_count": 2
        },
        {
          "output_type": "stream",
          "text": [
            "<class 'pandas.core.frame.DataFrame'>\n",
            "RangeIndex: 27869 entries, 0 to 27868\n",
            "Data columns (total 25 columns):\n",
            " #   Column                Non-Null Count  Dtype  \n",
            "---  ------                --------------  -----  \n",
            " 0   X                     27869 non-null  float64\n",
            " 1   Y                     27869 non-null  float64\n",
            " 2   CCN                   27869 non-null  int64  \n",
            " 3   REPORT_DAT            27869 non-null  object \n",
            " 4   SHIFT                 27869 non-null  object \n",
            " 5   METHOD                27869 non-null  object \n",
            " 6   OFFENSE               27869 non-null  object \n",
            " 7   BLOCK                 27869 non-null  object \n",
            " 8   XBLOCK                27869 non-null  float64\n",
            " 9   YBLOCK                27869 non-null  float64\n",
            " 10  WARD                  27869 non-null  int64  \n",
            " 11  ANC                   27869 non-null  object \n",
            " 12  DISTRICT              27868 non-null  float64\n",
            " 13  PSA                   27868 non-null  float64\n",
            " 14  NEIGHBORHOOD_CLUSTER  27859 non-null  object \n",
            " 15  BLOCK_GROUP           27868 non-null  object \n",
            " 16  CENSUS_TRACT          27868 non-null  float64\n",
            " 17  VOTING_PRECINCT       27869 non-null  object \n",
            " 18  LATITUDE              27869 non-null  float64\n",
            " 19  LONGITUDE             27869 non-null  float64\n",
            " 20  BID                   4635 non-null   object \n",
            " 21  START_DATE            27869 non-null  object \n",
            " 22  END_DATE              27869 non-null  object \n",
            " 23  OBJECTID              27869 non-null  int64  \n",
            " 24  OCTO_RECORD_ID        27869 non-null  object \n",
            "dtypes: float64(9), int64(3), object(13)\n",
            "memory usage: 5.3+ MB\n"
          ],
          "name": "stdout"
        }
      ]
    },
    {
      "cell_type": "markdown",
      "metadata": {
        "id": "_G6pd_U0PmAz"
      },
      "source": [
        "### Example of creating a table to export to latex"
      ]
    },
    {
      "cell_type": "code",
      "metadata": {
        "colab": {
          "base_uri": "https://localhost:8080/",
          "height": 570
        },
        "id": "4_-jAxkoO-sy",
        "outputId": "c1117339-e207-47cb-8615-45babf9ed572"
      },
      "source": [
        "method_v_offense = pd.crosstab(dc_crim_2020.METHOD, \n",
        "                              dc_crim_2020.OFFENSE)\n",
        "method_v_offense\n",
        "\n",
        "## method 1- transpose and print a table to console to copy/paste\n",
        "print(method_v_offense.T.to_latex(index = False, caption = \"Types of weapons in offenses\",\n",
        "                                 label = \"tab:method_offense\"))\n",
        "\n",
        "## method 2- write .tex to folder and upload to overleaf/reference the tex file directly \n",
        "method_v_offense.T.to_latex(\"methodoffense.tex\", \n",
        "                            index = False, caption = \"Types of weapons in offenses\",\n",
        "                            label = \"tab:method_offense_written\")\n",
        "\n",
        "\n",
        "## for method 2, if working with latex locally, can also then\n",
        "## just reference the filepath directly rather than uploading to overleaf"
      ],
      "execution_count": 3,
      "outputs": [
        {
          "output_type": "execute_result",
          "data": {
            "text/html": [
              "<div>\n",
              "<style scoped>\n",
              "    .dataframe tbody tr th:only-of-type {\n",
              "        vertical-align: middle;\n",
              "    }\n",
              "\n",
              "    .dataframe tbody tr th {\n",
              "        vertical-align: top;\n",
              "    }\n",
              "\n",
              "    .dataframe thead th {\n",
              "        text-align: right;\n",
              "    }\n",
              "</style>\n",
              "<table border=\"1\" class=\"dataframe\">\n",
              "  <thead>\n",
              "    <tr style=\"text-align: right;\">\n",
              "      <th>OFFENSE</th>\n",
              "      <th>ARSON</th>\n",
              "      <th>ASSAULT W/DANGEROUS WEAPON</th>\n",
              "      <th>BURGLARY</th>\n",
              "      <th>HOMICIDE</th>\n",
              "      <th>MOTOR VEHICLE THEFT</th>\n",
              "      <th>ROBBERY</th>\n",
              "      <th>SEX ABUSE</th>\n",
              "      <th>THEFT F/AUTO</th>\n",
              "      <th>THEFT/OTHER</th>\n",
              "    </tr>\n",
              "    <tr>\n",
              "      <th>METHOD</th>\n",
              "      <th></th>\n",
              "      <th></th>\n",
              "      <th></th>\n",
              "      <th></th>\n",
              "      <th></th>\n",
              "      <th></th>\n",
              "      <th></th>\n",
              "      <th></th>\n",
              "      <th></th>\n",
              "    </tr>\n",
              "  </thead>\n",
              "  <tbody>\n",
              "    <tr>\n",
              "      <th>GUN</th>\n",
              "      <td>0</td>\n",
              "      <td>842</td>\n",
              "      <td>7</td>\n",
              "      <td>170</td>\n",
              "      <td>3</td>\n",
              "      <td>982</td>\n",
              "      <td>8</td>\n",
              "      <td>0</td>\n",
              "      <td>1</td>\n",
              "    </tr>\n",
              "    <tr>\n",
              "      <th>KNIFE</th>\n",
              "      <td>0</td>\n",
              "      <td>481</td>\n",
              "      <td>0</td>\n",
              "      <td>9</td>\n",
              "      <td>0</td>\n",
              "      <td>122</td>\n",
              "      <td>10</td>\n",
              "      <td>0</td>\n",
              "      <td>0</td>\n",
              "    </tr>\n",
              "    <tr>\n",
              "      <th>OTHERS</th>\n",
              "      <td>13</td>\n",
              "      <td>300</td>\n",
              "      <td>1437</td>\n",
              "      <td>18</td>\n",
              "      <td>3253</td>\n",
              "      <td>890</td>\n",
              "      <td>155</td>\n",
              "      <td>8267</td>\n",
              "      <td>10901</td>\n",
              "    </tr>\n",
              "  </tbody>\n",
              "</table>\n",
              "</div>"
            ],
            "text/plain": [
              "OFFENSE  ARSON  ASSAULT W/DANGEROUS WEAPON  ...  THEFT F/AUTO  THEFT/OTHER\n",
              "METHOD                                      ...                           \n",
              "GUN          0                         842  ...             0            1\n",
              "KNIFE        0                         481  ...             0            0\n",
              "OTHERS      13                         300  ...          8267        10901\n",
              "\n",
              "[3 rows x 9 columns]"
            ]
          },
          "metadata": {
            "tags": []
          },
          "execution_count": 3
        },
        {
          "output_type": "stream",
          "text": [
            "\\begin{table}\n",
            "\\centering\n",
            "\\caption{Types of weapons in offenses}\n",
            "\\label{tab:method_offense}\n",
            "\\begin{tabular}{rrr}\n",
            "\\toprule\n",
            " GUN &  KNIFE &  OTHERS \\\\\n",
            "   0 &      0 &      13 \\\\\n",
            "\\midrule\n",
            " 842 &    481 &     300 \\\\\n",
            "   7 &      0 &    1437 \\\\\n",
            " 170 &      9 &      18 \\\\\n",
            "   3 &      0 &    3253 \\\\\n",
            " 982 &    122 &     890 \\\\\n",
            "   8 &     10 &     155 \\\\\n",
            "   0 &      0 &    8267 \\\\\n",
            "   1 &      0 &   10901 \\\\\n",
            "\\bottomrule\n",
            "\\end{tabular}\n",
            "\\end{table}\n",
            "\n"
          ],
          "name": "stdout"
        }
      ]
    },
    {
      "cell_type": "markdown",
      "metadata": {
        "id": "67zIF7gLPtDK"
      },
      "source": [
        "### Example of creating a figure to export"
      ]
    },
    {
      "cell_type": "code",
      "metadata": {
        "colab": {
          "base_uri": "https://localhost:8080/",
          "height": 666
        },
        "id": "qJ8OIWT8PPwC",
        "outputId": "41d106fd-a964-464f-c720-50e7ddf20c52"
      },
      "source": [
        "## create a fig with the count of crimes by shift \n",
        "\n",
        "count_byshift = pd.DataFrame(dc_crim_2020.groupby('SHIFT')['OCTO_RECORD_ID'].nunique()).reset_index()\n",
        "count_byshift\n",
        "\n",
        "plot_shifts = (ggplot(count_byshift, aes(x = 'SHIFT', \n",
        "                                       y = 'OCTO_RECORD_ID')) +\n",
        "            geom_bar(stat = \"identity\", fill = \"firebrick\") +\n",
        "            theme_classic() +\n",
        "            xlab(\"Which shift?\") +\n",
        "            ylab(\"Count of crimes\") +\n",
        "            theme(axis_text = element_text(size = 14, color = \"black\")))\n",
        "plot_shifts\n",
        "\n",
        "## method 1- (would avoid)- can left click and save image\n",
        "\n",
        "## method 2 - write image\n",
        "plot_shifts.save(\"plot_shifts.png\", \n",
        "                width = 12,\n",
        "                height = 8,\n",
        "                verbose = False)"
      ],
      "execution_count": 4,
      "outputs": [
        {
          "output_type": "execute_result",
          "data": {
            "text/html": [
              "<div>\n",
              "<style scoped>\n",
              "    .dataframe tbody tr th:only-of-type {\n",
              "        vertical-align: middle;\n",
              "    }\n",
              "\n",
              "    .dataframe tbody tr th {\n",
              "        vertical-align: top;\n",
              "    }\n",
              "\n",
              "    .dataframe thead th {\n",
              "        text-align: right;\n",
              "    }\n",
              "</style>\n",
              "<table border=\"1\" class=\"dataframe\">\n",
              "  <thead>\n",
              "    <tr style=\"text-align: right;\">\n",
              "      <th></th>\n",
              "      <th>SHIFT</th>\n",
              "      <th>OCTO_RECORD_ID</th>\n",
              "    </tr>\n",
              "  </thead>\n",
              "  <tbody>\n",
              "    <tr>\n",
              "      <th>0</th>\n",
              "      <td>DAY</td>\n",
              "      <td>10079</td>\n",
              "    </tr>\n",
              "    <tr>\n",
              "      <th>1</th>\n",
              "      <td>EVENING</td>\n",
              "      <td>12297</td>\n",
              "    </tr>\n",
              "    <tr>\n",
              "      <th>2</th>\n",
              "      <td>MIDNIGHT</td>\n",
              "      <td>5493</td>\n",
              "    </tr>\n",
              "  </tbody>\n",
              "</table>\n",
              "</div>"
            ],
            "text/plain": [
              "      SHIFT  OCTO_RECORD_ID\n",
              "0       DAY           10079\n",
              "1   EVENING           12297\n",
              "2  MIDNIGHT            5493"
            ]
          },
          "metadata": {
            "tags": []
          },
          "execution_count": 4
        },
        {
          "output_type": "stream",
          "text": [
            "/usr/local/lib/python3.7/dist-packages/plotnine/utils.py:1246: FutureWarning: is_categorical is deprecated and will be removed in a future version.  Use is_categorical_dtype instead\n",
            "  if pdtypes.is_categorical(arr):\n"
          ],
          "name": "stderr"
        },
        {
          "output_type": "display_data",
          "data": {
            "image/png": "[encoded data removed]",
            "text/plain": [
              "<Figure size 640x480 with 1 Axes>"
            ]
          },
          "metadata": {
            "tags": []
          }
        },
        {
          "output_type": "execute_result",
          "data": {
            "text/plain": [
              "<ggplot: (8772818184261)>"
            ]
          },
          "metadata": {
            "tags": []
          },
          "execution_count": 4
        },
        {
          "output_type": "stream",
          "text": [
            "/usr/local/lib/python3.7/dist-packages/plotnine/utils.py:1246: FutureWarning: is_categorical is deprecated and will be removed in a future version.  Use is_categorical_dtype instead\n",
            "  if pdtypes.is_categorical(arr):\n"
          ],
          "name": "stderr"
        }
      ]
    },
    {
      "cell_type": "markdown",
      "metadata": {
        "id": "d0x00nSYPzAD"
      },
      "source": [
        "## Activity\n",
        "\n",
        "You decide the table is only informative for crimes where there's variation in the the type of method used. Filter and create a new table that only includes offenses where <80% of the methods == other.\n",
        "\n",
        "Create a table to export to latex with that filtered information. Ideally programmatically rather than manually, create a caption that specifies which offenses are excluded from the table. In LaTeX, write a few bullet points summarizing what the figure shows. Have one bullet point define the fraction using mathematical notation\n",
        "\n",
        "With that filtered set of offenses, create a figure where the x axis is the type of offense and the y axis is the proportion of that offense where a gun is used. Order the x axis from highest to lowest. Export for latex.\n",
        "\n",
        "Challenge exercise: an analyst on a different team wants a breakdown of how the workload varies by shift. They want a separate figure for each of the ANCs in ward 8 (ANC starts with 8). Using a loop or function, write a separate bar plot for each ANC and make sure to programatically change the name of the plot filename so you know which is which."
      ]
    }
  ]
}